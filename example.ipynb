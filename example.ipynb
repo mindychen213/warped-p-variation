{
 "cells": [
  {
   "cell_type": "code",
   "execution_count": 1,
   "metadata": {},
   "outputs": [],
   "source": [
    "import numpy as np\n",
    "from paths_tools import LatticePaths\n",
    "from pvar_tools import *\n",
    "import time"
   ]
  },
  {
   "cell_type": "code",
   "execution_count": 2,
   "metadata": {},
   "outputs": [],
   "source": [
    "x = np.random.rand(10, 2)\n",
    "y = np.random.rand(9, 2)"
   ]
  },
  {
   "cell_type": "code",
   "execution_count": 3,
   "metadata": {},
   "outputs": [],
   "source": [
    "LP = LatticePaths(x, y, brute_force=True)"
   ]
  },
  {
   "cell_type": "code",
   "execution_count": 4,
   "metadata": {},
   "outputs": [
    {
     "data": {
      "text/plain": [
       "24310"
      ]
     },
     "execution_count": 4,
     "metadata": {},
     "output_type": "execute_result"
    }
   ],
   "source": [
    "LP.total_paths"
   ]
  },
  {
   "cell_type": "code",
   "execution_count": 5,
   "metadata": {},
   "outputs": [],
   "source": [
    "warping_path = LP.allPaths[876]"
   ]
  },
  {
   "cell_type": "code",
   "execution_count": 6,
   "metadata": {},
   "outputs": [],
   "source": [
    "x_reparam, y_reparam = LP.align(warping_path)"
   ]
  },
  {
   "cell_type": "code",
   "execution_count": 7,
   "metadata": {},
   "outputs": [
    {
     "name": "stdout",
     "output_type": "stream",
     "text": [
      "1 2\n",
      "2 3\n",
      "3 4\n",
      "4 5\n",
      "5 6\n",
      "6 6\n",
      "6 7\n",
      "7 8\n",
      "8 9\n",
      "9 10\n",
      "10 11\n",
      "11 11\n",
      "11 11\n",
      "11 11\n",
      "11 11\n",
      "11 11\n",
      "11 11\n",
      "(5.939921536078252, [0, 1, 2, 3, 4, 6, 7, 8, 9, 10, 17])\n",
      "0.012964487075805664\n"
     ]
    }
   ],
   "source": [
    "t=time.time()\n",
    "print(p_variation_distance(x_reparam, y_reparam, p=2, depth=2, norm='l1'))\n",
    "print(time.time()-t)"
   ]
  },
  {
   "cell_type": "code",
   "execution_count": 8,
   "metadata": {},
   "outputs": [
    {
     "name": "stdout",
     "output_type": "stream",
     "text": [
      "(5.939921536078252, [0, 1, 2, 3, 6, 7, 8, 10, 12, 14, 16, 17])\n",
      "0.0059854984283447266\n"
     ]
    }
   ],
   "source": [
    "t=time.time()\n",
    "print(p_variation_distance_alexey_optim(x_reparam, y_reparam, p=2, depth=2, norm='l1'))\n",
    "print(time.time()-t)"
   ]
  },
  {
   "cell_type": "code",
   "execution_count": null,
   "metadata": {},
   "outputs": [],
   "source": []
  }
 ],
 "metadata": {
  "kernelspec": {
   "display_name": "Python 3",
   "language": "python",
   "name": "python3"
  },
  "language_info": {
   "codemirror_mode": {
    "name": "ipython",
    "version": 3
   },
   "file_extension": ".py",
   "mimetype": "text/x-python",
   "name": "python",
   "nbconvert_exporter": "python",
   "pygments_lexer": "ipython3",
   "version": "3.6.5"
  }
 },
 "nbformat": 4,
 "nbformat_minor": 2
}
