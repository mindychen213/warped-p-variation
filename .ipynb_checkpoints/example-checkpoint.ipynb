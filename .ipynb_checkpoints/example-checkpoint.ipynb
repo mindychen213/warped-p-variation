{
 "cells": [
  {
   "cell_type": "code",
   "execution_count": 1,
   "metadata": {},
   "outputs": [],
   "source": [
    "import numpy as np\n",
    "from paths_tools import LatticePaths\n",
    "from pvar_tools import *\n",
    "import time"
   ]
  },
  {
   "cell_type": "code",
   "execution_count": 2,
   "metadata": {},
   "outputs": [],
   "source": [
    "x = np.random.rand(10, 2)\n",
    "y = np.random.rand(9, 2)"
   ]
  },
  {
   "cell_type": "code",
   "execution_count": 3,
   "metadata": {},
   "outputs": [],
   "source": [
    "LP = LatticePaths(x, y, brute_force=True)"
   ]
  },
  {
   "cell_type": "code",
   "execution_count": 4,
   "metadata": {},
   "outputs": [
    {
     "data": {
      "text/plain": [
       "924"
      ]
     },
     "execution_count": 4,
     "metadata": {},
     "output_type": "execute_result"
    }
   ],
   "source": [
    "LP.total_paths"
   ]
  },
  {
   "cell_type": "code",
   "execution_count": 5,
   "metadata": {},
   "outputs": [],
   "source": [
    "warping_path = LP.allPaths[876]"
   ]
  },
  {
   "cell_type": "code",
   "execution_count": 6,
   "metadata": {},
   "outputs": [],
   "source": [
    "x_reparam, y_reparam = LP.align(warping_path)"
   ]
  },
  {
   "cell_type": "code",
   "execution_count": 7,
   "metadata": {},
   "outputs": [
    {
     "name": "stdout",
     "output_type": "stream",
     "text": [
      "[0, 1] 0\n",
      "[1] 1\n",
      "[1, 2] 2\n",
      "[1, 2, 3] 3\n",
      "[1, 2, 3, 4] 4\n",
      "[1, 2, 3, 4, 5] 5\n",
      "[1, 2, 3, 4, 5, 6] 5\n",
      "[1, 2, 3, 4, 5, 7] 5\n",
      "[1, 2, 3, 4, 5, 8] 5\n",
      "[1, 2, 3, 4, 5, 9] 5\n",
      "[1, 2, 3, 4, 5, 10] 5\n",
      "[1, 2, 3, 4, 5, 11] 5\n",
      "(4.305357342779842, [1, 2, 3, 4, 5, 12])\n",
      "0.006949424743652344\n"
     ]
    }
   ],
   "source": [
    "t=time.time()\n",
    "print(p_variation_distance(x_reparam, y_reparam, p=2, depth=2, norm='l1'))\n",
    "print(time.time()-t)"
   ]
  },
  {
   "cell_type": "code",
   "execution_count": 8,
   "metadata": {},
   "outputs": [
    {
     "name": "stdout",
     "output_type": "stream",
     "text": [
      "(4.305357342779842, [0, 1, 2, 3, 4, 5, 8, 10, 12])\n",
      "0.005074739456176758\n"
     ]
    }
   ],
   "source": [
    "t=time.time()\n",
    "print(p_variation_distance_alexey_optim(x_reparam, y_reparam, p=2, depth=2, norm='l1'))\n",
    "print(time.time()-t)"
   ]
  },
  {
   "cell_type": "code",
   "execution_count": 9,
   "metadata": {},
   "outputs": [
    {
     "name": "stdout",
     "output_type": "stream",
     "text": [
      "(4.664150892309673, [1, 2, 3, 4, 5, 12])\n",
      "0.005984306335449219\n"
     ]
    }
   ],
   "source": [
    "t=time.time()\n",
    "print(p_variation_distance_warwick(x_reparam, y_reparam, p=2, depth=2, norm='l1'))\n",
    "print(time.time()-t)"
   ]
  },
  {
   "cell_type": "code",
   "execution_count": null,
   "metadata": {},
   "outputs": [],
   "source": [
    "def brute_force_warped_pvariation(longer_path, shorter_path, ordered_lattice_paths, p_var, depth, norm):\n",
    "    t = time.time()\n",
    "    long_dim = longer_path.shape[0]\n",
    "    short_dim = shorter_path.shape[0]\n",
    "    warped_p_variations = []\n",
    "    all_p_variations = {}\n",
    "    for lattice_path in ordered_lattice_paths:\n",
    "        longer_aligned, shorter_aligned = align_paths(longer_path, shorter_path, lattice_path)\n",
    "        warped_p_variations.append(p_variation_distance(longer_aligned, shorter_aligned, p_var, depth, norm))\n",
    "        all_p_variations[tuple(lattice_path)] = warped_p_variations[-1]\n",
    "    warped_pvar = np.min(warped_p_variations)\n",
    "    min_surjection = ordered_lattice_paths[np.argmin(warped_p_variations)]\n",
    "    return warped_pvar, min_surjection, all_p_variations"
   ]
  }
 ],
 "metadata": {
  "kernelspec": {
   "display_name": "Python 3",
   "language": "python",
   "name": "python3"
  },
  "language_info": {
   "codemirror_mode": {
    "name": "ipython",
    "version": 3
   },
   "file_extension": ".py",
   "mimetype": "text/x-python",
   "name": "python",
   "nbconvert_exporter": "python",
   "pygments_lexer": "ipython3",
   "version": "3.6.5"
  }
 },
 "nbformat": 4,
 "nbformat_minor": 2
}
