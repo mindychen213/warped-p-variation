{
 "cells": [
  {
   "cell_type": "code",
   "execution_count": 1,
   "metadata": {},
   "outputs": [],
   "source": [
    "import sys\n",
    "sys.path.insert(0, '../backend')"
   ]
  },
  {
   "cell_type": "code",
   "execution_count": 2,
   "metadata": {},
   "outputs": [],
   "source": [
    "import pybnb\n",
    "import numpy as np\n",
    "import generalized_dtw"
   ]
  },
  {
   "cell_type": "code",
   "execution_count": 3,
   "metadata": {},
   "outputs": [],
   "source": [
    "x = np.random.rand(5).tolist()\n",
    "y = np.random.rand(7).tolist()"
   ]
  },
  {
   "cell_type": "markdown",
   "metadata": {},
   "source": [
    "# Branch-and-Bound"
   ]
  },
  {
   "cell_type": "code",
   "execution_count": 8,
   "metadata": {},
   "outputs": [],
   "source": [
    "class Lattice(pybnb.Problem):\n",
    "    \n",
    "    \"\"\" The solver in pybnb keeps track of the best solution seen so far for you, \n",
    "        and will prune the search space by not calling the branch() method when it \n",
    "        encounters a node whose bound() is worse than the best objective() seen so far.\n",
    "    \"\"\"\n",
    "\n",
    "    def __init__(self, x, y):\n",
    "        self.x = tuple(x)\n",
    "        self.m = len(self.x)\n",
    "        self.y = tuple(y)\n",
    "        self.n = len(self.y)\n",
    "        assert self.m > 0\n",
    "        assert self.n > 0\n",
    "\n",
    "#         self.values_memoization = {}\n",
    "        self.path = [(0,0)]\n",
    "        self.evaluation = [] # keep track of the history of parent function evaluations\n",
    "\n",
    "    def align(self, path):\n",
    "        \"\"\"align x and y according to the path\"\"\"\n",
    "        x_reparam = [self.x[k] for k in [i for i,j in path]]\n",
    "        y_reparam = [self.y[k] for k in [j for i,j in path]]\n",
    "        return x_reparam, y_reparam\n",
    "    \n",
    "    def distance(self, path):\n",
    "        x, y = self.align(path)\n",
    "        return np.sqrt(np.sum([(xx-yy)**2 for xx,yy in zip(x,y)]))\n",
    "        \n",
    "    def sense(self):\n",
    "        return pybnb.minimize\n",
    "\n",
    "    def objective(self):\n",
    "        \"\"\" The search space is not all paths in the tree, but only complete paths, \n",
    "            i.e. paths terminating at (m,n), the very last node for all branches.\n",
    "            by returning self.distance(self.path) only when self.path is a complete \n",
    "            path will ensure to optimise over the right search space (instead of \n",
    "            optimising over all possible partial paths on the tree).\n",
    "        \"\"\"\n",
    "        \n",
    "        if self.path[-1] == (self.m-1,self.n-1):\n",
    "            val = self.distance(self.path)\n",
    "        else:\n",
    "            val = self.infeasible_objective()\n",
    "\n",
    "        # TODO: do we need to keep track of values calculated along each path?\n",
    "        assert len(self.evaluation) in (len(self.path), len(self.path)-1)\n",
    "        if len(self.evaluation) == len(self.path)-1:\n",
    "            self.evaluation.append(val)\n",
    "\n",
    "        return val\n",
    "\n",
    "    def bound(self):\n",
    "        \"\"\" This function is evaluate at a partial path and needs to be a lower bound on any complete \n",
    "            path originating from it, so it can decide if the search needs to continue \n",
    "            along a partial path based on the best known objective.\n",
    "        \"\"\"        \n",
    "#         return self.unbounded_objective()\n",
    "        return self.distance(self.path)\n",
    "\n",
    "    def save_state(self, node):\n",
    "        node.state = (list(self.path), list(self.evaluation))\n",
    "\n",
    "    def load_state(self, node):\n",
    "        (self.path, self.evaluation) = node.state\n",
    "\n",
    "    def branch(self):\n",
    "        \n",
    "        i,j = self.path[-1]\n",
    "        \n",
    "        if (i==self.m-1) and (j<self.n-1):\n",
    "            child = pybnb.Node()\n",
    "            child.state = (self.path + [(i,j+1)], list(self.evaluation))\n",
    "            yield child\n",
    "        \n",
    "        elif (i<self.m-1) and (j==self.n-1):\n",
    "            child = pybnb.Node()\n",
    "            child.state = (self.path + [(i+1,j)], list(self.evaluation))\n",
    "            yield child\n",
    "        \n",
    "        elif (i<self.m-1) and (j<self.n-1):\n",
    "            child = pybnb.Node()\n",
    "            child.state = (self.path + [(i+1,j)], list(self.evaluation))\n",
    "            yield child\n",
    "        \n",
    "            child = pybnb.Node()\n",
    "            child.state = (self.path + [(i,j+1)], list(self.evaluation))\n",
    "            yield child\n",
    "        \n",
    "            child = pybnb.Node()\n",
    "            child.state = (self.path + [(i+1,j+1)], list(self.evaluation))\n",
    "            yield child\n",
    "            \n",
    "#     def notify_new_best_node(self, node, current=True):\n",
    "#         print('we found a new best', node)"
   ]
  },
  {
   "cell_type": "code",
   "execution_count": 9,
   "metadata": {},
   "outputs": [],
   "source": [
    "problem = Lattice(x, y)"
   ]
  },
  {
   "cell_type": "code",
   "execution_count": 10,
   "metadata": {},
   "outputs": [],
   "source": [
    "solver  = pybnb.Solver(comm=None)"
   ]
  },
  {
   "cell_type": "code",
   "execution_count": 11,
   "metadata": {
    "scrolled": false
   },
   "outputs": [
    {
     "name": "stdout",
     "output_type": "stream",
     "text": [
      "\n",
      "Using non-default solver options:\n",
      " - queue_strategy: depth (default: bound)\n",
      "\n",
      "Starting branch & bound solve:\n",
      " - dispatcher pid: 9788 (DESKTOP-0T8DJ4J)\n",
      " - worker processes: 1\n",
      "--------------------------------------------------------------------------------------------------------------------------\n",
      "         Nodes        |                      Objective Bounds                       |              Work              \n",
      "      Expl    Unexpl  |      Incumbent           Bound    Rel. Gap         Abs. Gap | Time (s)  Nodes/Sec Imbalance   Idle\n",
      "         0         1  |            inf            -inf         inf%             inf |      0.0       0.00     0.00%      0\n",
      "         1         3  |            inf       0.4015123         inf%             inf |      0.0     285.72     0.00%      0\n",
      "*       11         8  |       1.077001       0.4015123   62.719403%    0.6754884588 |      0.0    1192.76     0.00%      0\n",
      "*       53         6  |       1.076267       0.4015123   62.693996%    0.6747549831 |      0.0    5004.76     0.00%      0\n",
      "*       62        10  |       1.059823       0.4015123   62.115167%    0.6583110706 |      0.0    4536.03     0.00%      0\n",
      "      Expl    Unexpl  |      Incumbent           Bound    Rel. Gap         Abs. Gap | Time (s)  Nodes/Sec Imbalance   Idle\n",
      "*       67        11  |       1.029111       0.4015123   60.984551%    0.6275987873 |      0.0    2563.52     0.00%      0\n",
      "*       81         9  |       1.024965       0.4015123   60.826732%    0.6234527648 |      0.0    3445.50     0.00%      0\n",
      "*       85         8  |       1.023463       0.4015123   60.769240%    0.6219506965 |      0.0    3978.17     0.00%      0\n",
      "*       91        11  |      0.9873483       0.4015123   58.583594%    0.5858359366 |      0.0    3045.24     0.00%      0\n",
      "*      105         9  |      0.9830261       0.4015123   58.151379%    0.5815137904 |      0.0    4555.00     0.00%      0\n",
      "      Expl    Unexpl  |      Incumbent           Bound    Rel. Gap         Abs. Gap | Time (s)  Nodes/Sec Imbalance   Idle\n",
      "*      121        13  |      0.9604234       0.4015123   55.891107%    0.5589110652 |      0.0    5257.42     0.00%      0\n",
      "*      124        11  |      0.9522269       0.4015123   55.071462%    0.5507146201 |      0.0    1055.31     0.00%      0\n",
      "*      133         8  |      0.9520691       0.4015123   55.055683%    0.5505568269 |      0.0    1742.28     0.00%      0\n",
      "*      235         8  |      0.9505944       0.4015123   54.908205%    0.5490820457 |      0.1    3974.17     0.00%      0\n",
      "*      241        11  |      0.9115973       0.4015123   51.008500%    0.5100850044 |      0.1    3044.07     0.00%      0\n",
      "      Expl    Unexpl  |      Incumbent           Bound    Rel. Gap         Abs. Gap | Time (s)  Nodes/Sec Imbalance   Idle\n",
      "*      255         9  |      0.9069142       0.4015123   50.540192%    0.5054019184 |      0.1    1598.28     0.00%      0\n",
      "*      271        13  |       0.882364       0.4015123   48.085165%     0.480851653 |      0.1    1604.09     0.00%      0\n",
      "*      274        11  |      0.8734353       0.4015123   47.192299%    0.4719229938 |      0.1    1510.31     0.00%      0\n",
      "*      283         8  |      0.8732633       0.4015123   47.175096%    0.4717509636 |      0.1    2851.39     0.00%      0\n",
      "*      352        11  |      0.8663304       0.4015123   46.481811%     0.464818113 |      0.1    5491.47     0.00%      0\n",
      "      Expl    Unexpl  |      Incumbent           Bound    Rel. Gap         Abs. Gap | Time (s)  Nodes/Sec Imbalance   Idle\n",
      "*      361         8  |       0.866157       0.4015123   46.464467%    0.4646446717 |      0.1    1814.92     0.00%      0\n",
      "*      404        13  |      0.8631726       0.4015123   46.166032%     0.461660315 |      0.1    2635.12     0.00%      0\n",
      "*      407        11  |      0.8540434       0.4015123   45.253104%    0.4525310421 |      0.1    1544.03     0.00%      0\n",
      "*      422         8  |      0.8490563       0.4015123   44.754398%    0.4475439839 |      0.1    4351.07     0.00%      0\n",
      "*      920         9  |      0.8481566       0.4015123   44.664423%    0.4466442327 |      0.2    9400.44     0.00%      0\n",
      "      Expl    Unexpl  |      Incumbent           Bound    Rel. Gap         Abs. Gap | Time (s)  Nodes/Sec Imbalance   Idle\n",
      "*      924         8  |      0.8463407       0.4015123   44.482843%    0.4448284264 |      0.2    4128.22     0.00%      0\n",
      "*      930        11  |      0.8022921       0.4015123   40.077983%    0.4007798293 |      0.2    3048.43     0.00%      0\n",
      "*      944         9  |       0.796967       0.4015123   39.545471%    0.3954547099 |      0.2    6590.47     0.00%      0\n",
      "*      960        13  |      0.7689143       0.4015123   36.740197%    0.3674019742 |      0.2    2077.62     0.00%      0\n",
      "*      963        11  |      0.7586516       0.4015123   35.713929%    0.3571392854 |      0.2     776.76     0.00%      0\n",
      "      Expl    Unexpl  |      Incumbent           Bound    Rel. Gap         Abs. Gap | Time (s)  Nodes/Sec Imbalance   Idle\n",
      "*      972         8  |      0.7584535       0.4015123   35.694122%    0.3569412207 |      0.2    2060.25     0.00%      0\n",
      "*     1041        11  |      0.7504608       0.4015123   34.894849%    0.3489484919 |      0.2    5289.21     0.00%      0\n",
      "*     1050         8  |      0.7502606       0.4015123   34.874826%     0.348748265 |      0.2    2322.68     0.00%      0\n",
      "*     1093        13  |      0.7468132       0.4015123   34.530092%    0.3453009156 |      0.2    4796.33     0.00%      0\n",
      "*     1096        11  |      0.7362425       0.4015123   33.473022%    0.3347302184 |      0.2    2046.19     0.00%      0\n",
      "      Expl    Unexpl  |      Incumbent           Bound    Rel. Gap         Abs. Gap | Time (s)  Nodes/Sec Imbalance   Idle\n",
      "*     1111         8  |      0.7304517       0.4015123   32.893933%    0.3289393336 |      0.2    3609.18     0.00%      0\n",
      "*     1521         5  |      0.7281566       0.4015123   32.664431%    0.3266443063 |      0.3    8165.29     0.00%      0\n",
      "*     1742         5  |      0.7253065       0.4015123   32.379416%    0.3237941584 |      0.3    6775.09     0.00%      0\n",
      "      1978         0  |      0.7253065       0.7253065    0.000000%               0 |      0.3    7823.38     0.00%      0\n",
      "--------------------------------------------------------------------------------------------------------------------------\n",
      "\n",
      "Absolute optimality tolerance met\n",
      "Optimal solution found!\n",
      "\n",
      "solver results:\n",
      " - solution_status: optimal\n",
      " - termination_condition: optimality\n",
      " - objective: 0.7253065\n",
      " - bound: 0.7253065\n",
      " - absolute_gap: 0\n",
      " - relative_gap: 0\n",
      " - nodes: 1978\n",
      " - wall_time: 347.44 ms\n",
      " - best_node: Node(objective=0.7253065)\n",
      "\n"
     ]
    }
   ],
   "source": [
    "results = solver.solve(problem,\n",
    "#                        log=None,\n",
    "#                        queue_strategy='breadth',\n",
    "                       queue_strategy='depth'\n",
    "                      )"
   ]
  },
  {
   "cell_type": "code",
   "execution_count": 12,
   "metadata": {},
   "outputs": [
    {
     "data": {
      "text/plain": [
       "0.725306478329863"
      ]
     },
     "execution_count": 12,
     "metadata": {},
     "output_type": "execute_result"
    }
   ],
   "source": [
    "results.best_node.objective"
   ]
  },
  {
   "cell_type": "code",
   "execution_count": 13,
   "metadata": {},
   "outputs": [
    {
     "name": "stdout",
     "output_type": "stream",
     "text": [
      "([(0, 0), (0, 1), (1, 2), (1, 3), (1, 4), (2, 5), (3, 5), (4, 6)], [inf, inf, inf, inf, inf, inf, inf, 0.725306478329863])\n"
     ]
    }
   ],
   "source": [
    "print(results.best_node.state)"
   ]
  },
  {
   "cell_type": "markdown",
   "metadata": {},
   "source": [
    "# Test with other code for DTW"
   ]
  },
  {
   "cell_type": "code",
   "execution_count": 14,
   "metadata": {},
   "outputs": [],
   "source": [
    "# Euclidean\n",
    "d = lambda a, b: (a-b)**2\n",
    "f_d = lambda DD, a, b: np.sqrt(DD**2 + d(a, b))\n",
    "final_operator = lambda x: np.sqrt(x)"
   ]
  },
  {
   "cell_type": "code",
   "execution_count": 15,
   "metadata": {},
   "outputs": [],
   "source": [
    "W = generalized_dtw.Warp(x, y, d, f_d, final_operator)"
   ]
  },
  {
   "cell_type": "code",
   "execution_count": 16,
   "metadata": {},
   "outputs": [
    {
     "data": {
      "text/plain": [
       "[[4, 6], [3, 5], [2, 5], [1, 4], [1, 3], [1, 2], [0, 1]]"
      ]
     },
     "execution_count": 16,
     "metadata": {},
     "output_type": "execute_result"
    }
   ],
   "source": [
    "W.warping_path[:-1]"
   ]
  },
  {
   "cell_type": "code",
   "execution_count": 17,
   "metadata": {},
   "outputs": [
    {
     "data": {
      "image/png": "[encoded data removed]",
      "text/plain": [
       "<Figure size 432x288 with 2 Axes>"
      ]
     },
     "metadata": {},
     "output_type": "display_data"
    }
   ],
   "source": [
    "W.plot_lattice()"
   ]
  },
  {
   "cell_type": "code",
   "execution_count": 18,
   "metadata": {},
   "outputs": [
    {
     "data": {
      "image/png": "[encoded data removed]",
      "text/plain": [
       "<Figure size 432x288 with 1 Axes>"
      ]
     },
     "metadata": {},
     "output_type": "display_data"
    }
   ],
   "source": [
    "W.plot_alignment()"
   ]
  },
  {
   "cell_type": "code",
   "execution_count": 19,
   "metadata": {},
   "outputs": [
    {
     "data": {
      "text/plain": [
       "0.7253064783298628"
      ]
     },
     "execution_count": 19,
     "metadata": {},
     "output_type": "execute_result"
    }
   ],
   "source": [
    "W.cost"
   ]
  },
  {
   "cell_type": "code",
   "execution_count": null,
   "metadata": {},
   "outputs": [],
   "source": []
  }
 ],
 "metadata": {
  "kernelspec": {
   "display_name": "Python 3",
   "language": "python",
   "name": "python3"
  },
  "language_info": {
   "codemirror_mode": {
    "name": "ipython",
    "version": 3
   },
   "file_extension": ".py",
   "mimetype": "text/x-python",
   "name": "python",
   "nbconvert_exporter": "python",
   "pygments_lexer": "ipython3",
   "version": "3.6.5"
  }
 },
 "nbformat": 4,
 "nbformat_minor": 2
}
