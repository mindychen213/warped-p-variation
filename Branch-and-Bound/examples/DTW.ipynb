{
 "cells": [
  {
   "cell_type": "code",
   "execution_count": 1,
   "metadata": {},
   "outputs": [],
   "source": [
    "import pybnb\n",
    "import numpy as np"
   ]
  },
  {
   "cell_type": "code",
   "execution_count": 26,
   "metadata": {},
   "outputs": [],
   "source": [
    "class Lattice(pybnb.Problem):\n",
    "    \n",
    "    \"\"\" The solver in pybnb keeps track of the best solution seen so far for you, \n",
    "        and will prune the search space by not calling the branch() method when it \n",
    "        encounters a node whose bound() is worse than the best objective() seen so far.\n",
    "    \"\"\"\n",
    "\n",
    "    def __init__(self, x, y):\n",
    "        self.x = tuple(x)\n",
    "        self.m = len(self.x)\n",
    "        self.y = tuple(y)\n",
    "        self.n = len(self.y)\n",
    "        assert self.m > 0\n",
    "        assert self.n > 0\n",
    "\n",
    "#         self.values_memoization = {}\n",
    "        self.path = [(0,0)]\n",
    "        self.evaluation = [] # keep track of the history of parent function evaluations\n",
    "\n",
    "    def distance(self, path):\n",
    "        return np.sum([(self.x[i] - self.y[j])**2 for i,j in path])\n",
    "    \n",
    "    #def random_exploratory_path(self, path):\n",
    "    #    i,j = path[-1]\n",
    "    #    if (i==self.m-1) and (j<self.n-1):\n",
    "    #        new_path = list(path) + [(i,j+1)]\n",
    "    #        return self.random_exploratory_path(new_path)\n",
    "    #    elif (i<self.m-1) and (j==self.n-1):\n",
    "    #        new_path = list(path) + [(i+1,j)]\n",
    "    #        return self.random_exploratory_path(new_path)\n",
    "    #    elif (i<self.m-1) and (j<self.n-1):\n",
    "    #        direction = np.random.randint(3)\n",
    "    #        if direction == 0:\n",
    "    #            new_path = list(path) + [(i,j+1)]\n",
    "    #        elif direction == 1:\n",
    "    #            new_path = list(path) + [(i+1,j)]\n",
    "    #        else:\n",
    "    #            new_path = list(path) + [(i+1,j+1)]\n",
    "    #        return self.random_exploratory_path(new_path)\n",
    "    #    else:\n",
    "    #        return path\n",
    "        \n",
    "    def sense(self):\n",
    "        return pybnb.minimize\n",
    "\n",
    "    def objective(self):\n",
    "        \"\"\" The search space is not all paths in the tree, but only complete paths, \n",
    "            i.e. paths terminating at (m,n), the very last node for all branches.\n",
    "            by returning self.distance(self.path) only when self.path is a complete \n",
    "            path will ensure to optimise over the right search space (instead of \n",
    "            optimising over all possible partial paths on the tree).\n",
    "        \"\"\"\n",
    "        \n",
    "        if self.path[-1] == (self.m-1,self.n-1):\n",
    "            val = self.distance(self.path)\n",
    "        else:\n",
    "            val = self.infeasible_objective()\n",
    "\n",
    "        # TODO: do we need to keep track of values calculated along each path?\n",
    "        assert len(self.evaluation) in (len(self.path), len(self.path)-1)\n",
    "        if len(self.evaluation) == len(self.path)-1:\n",
    "            self.evaluation.append(val)\n",
    "\n",
    "        return val\n",
    "\n",
    "    def bound(self):\n",
    "        \"\"\" This function is evaluate at a partial path and needs to be a lower bound on any complete \n",
    "            path originating from it, so it can decide if the search needs to continue \n",
    "            along a partial path based on the best known objective.\n",
    "        \"\"\"\n",
    "        \n",
    "        #exploratory_path = self.random_exploratory_path(self.path)\n",
    "        #print(exploratory_path)\n",
    "        #return self.distance(exploratory_path)\n",
    "        \n",
    "#         return self.unbounded_objective()\n",
    "        return self.distance(self.path)\n",
    "\n",
    "    def save_state(self, node):\n",
    "        node.state = (list(self.path), list(self.evaluation))\n",
    "\n",
    "    def load_state(self, node):\n",
    "        (self.path, self.evaluation) = node.state\n",
    "\n",
    "    def branch(self):\n",
    "        \n",
    "        i,j = self.path[-1]\n",
    "        \n",
    "        if (i==self.m-1) and (j<self.n-1):\n",
    "            child = pybnb.Node()\n",
    "            child.state = (self.path + [(i,j+1)], list(self.evaluation))\n",
    "            yield child\n",
    "        \n",
    "        elif (i<self.m-1) and (j==self.n-1):\n",
    "            child = pybnb.Node()\n",
    "            child.state = (self.path + [(i+1,j)], list(self.evaluation))\n",
    "            yield child\n",
    "        \n",
    "        elif (i<self.m-1) and (j<self.n-1):\n",
    "            child = pybnb.Node()\n",
    "            child.state = (self.path + [(i+1,j)], list(self.evaluation))\n",
    "            yield child\n",
    "        \n",
    "            child = pybnb.Node()\n",
    "            child.state = (self.path + [(i,j+1)], list(self.evaluation))\n",
    "            yield child\n",
    "        \n",
    "            child = pybnb.Node()\n",
    "            child.state = (self.path + [(i+1,j+1)], list(self.evaluation))\n",
    "            yield child\n",
    "            \n",
    "#     def notify_new_best_node(self, node, current=True):\n",
    "#         print('we found a new best', node)"
   ]
  },
  {
   "cell_type": "code",
   "execution_count": 27,
   "metadata": {},
   "outputs": [],
   "source": [
    "problem = Lattice(x=[2.]*5, y=[3.]*8)"
   ]
  },
  {
   "cell_type": "code",
   "execution_count": 28,
   "metadata": {},
   "outputs": [],
   "source": [
    "solver  = pybnb.Solver(comm=None)"
   ]
  },
  {
   "cell_type": "code",
   "execution_count": 29,
   "metadata": {
    "scrolled": false
   },
   "outputs": [
    {
     "name": "stdout",
     "output_type": "stream",
     "text": [
      "\n",
      "Using non-default solver options:\n",
      " - queue_strategy: depth (default: bound)\n",
      "\n",
      "Starting branch & bound solve:\n",
      " - dispatcher pid: 17228 (DESKTOP-0T8DJ4J)\n",
      " - worker processes: 1\n",
      "--------------------------------------------------------------------------------------------------------------------------\n",
      "         Nodes        |                      Objective Bounds                       |              Work              \n",
      "      Expl    Unexpl  |      Incumbent           Bound    Rel. Gap         Abs. Gap | Time (s)  Nodes/Sec Imbalance   Idle\n",
      "         0         1  |            inf            -inf         inf%             inf |      0.0       0.00     0.00%      0\n",
      "         1         3  |            inf               1         inf%             inf |      0.0     334.05     0.00%      0\n",
      "we found a new best Node(objective=12.0,\n",
      "     bound=12.0,\n",
      "     tree_depth=11)\n",
      "*       12         8  |             12               1   91.666667%              11 |      0.0    2023.80     0.00%      0\n",
      "we found a new best Node(objective=11.0,\n",
      "     bound=11.0,\n",
      "     tree_depth=10)\n",
      "*       48        12  |             11               1   90.909091%              10 |      0.0    9651.09     0.00%      0\n",
      "we found a new best Node(objective=10.0,\n",
      "     bound=10.0,\n",
      "     tree_depth=9)\n",
      "*      230         9  |             10               1   90.000000%               9 |      0.0   14780.76     0.00%      0\n",
      "we found a new best Node(objective=9.0,\n",
      "     bound=9.0,\n",
      "     tree_depth=8)\n",
      "      Expl    Unexpl  |      Incumbent           Bound    Rel. Gap         Abs. Gap | Time (s)  Nodes/Sec Imbalance   Idle\n",
      "*      828         6  |              9               1   88.888889%               8 |      0.1    9401.36     0.00%      0\n",
      "we found a new best Node(objective=8.0,\n",
      "     bound=8.0,\n",
      "     tree_depth=7)\n",
      "*     2238         3  |              8               1   87.500000%               7 |      0.2   16920.93     0.00%      0\n",
      "      3048         0  |              8               8    0.000000%               0 |      0.2   20102.13     0.00%      0\n",
      "--------------------------------------------------------------------------------------------------------------------------\n",
      "\n",
      "Absolute optimality tolerance met\n",
      "Optimal solution found!\n",
      "\n",
      "solver results:\n",
      " - solution_status: optimal\n",
      " - termination_condition: optimality\n",
      " - objective: 8\n",
      " - bound: 8\n",
      " - absolute_gap: 0\n",
      " - relative_gap: 0\n",
      " - nodes: 3048\n",
      " - wall_time: 214.39 ms\n",
      " - best_node: Node(objective=8)\n",
      "\n"
     ]
    }
   ],
   "source": [
    "results = solver.solve(problem,\n",
    "#                        log=None,\n",
    "#                        queue_strategy='breadth',\n",
    "                       queue_strategy='depth'\n",
    "                      )"
   ]
  },
  {
   "cell_type": "code",
   "execution_count": 16,
   "metadata": {},
   "outputs": [
    {
     "data": {
      "text/plain": [
       "8.0"
      ]
     },
     "execution_count": 16,
     "metadata": {},
     "output_type": "execute_result"
    }
   ],
   "source": [
    "results.best_node.objective"
   ]
  },
  {
   "cell_type": "code",
   "execution_count": 17,
   "metadata": {},
   "outputs": [
    {
     "data": {
      "text/plain": [
       "7"
      ]
     },
     "execution_count": 17,
     "metadata": {},
     "output_type": "execute_result"
    }
   ],
   "source": [
    "results.best_node.tree_depth"
   ]
  },
  {
   "cell_type": "markdown",
   "metadata": {},
   "source": [
    "# Test with other code for DTW"
   ]
  },
  {
   "cell_type": "code",
   "execution_count": 31,
   "metadata": {},
   "outputs": [],
   "source": [
    "# Euclidean\n",
    "d = lambda a, b: np.sum([(a-b)**2 for x in (a-b)])\n",
    "f_d = lambda DD, a, b: np.sqrt(DD**2 + d(a, b))"
   ]
  },
  {
   "cell_type": "code",
   "execution_count": null,
   "metadata": {},
   "outputs": [],
   "source": [
    "W = Warp(digit, digit_perturbed, d, f_d)"
   ]
  }
 ],
 "metadata": {
  "kernelspec": {
   "display_name": "Python 3",
   "language": "python",
   "name": "python3"
  },
  "language_info": {
   "codemirror_mode": {
    "name": "ipython",
    "version": 3
   },
   "file_extension": ".py",
   "mimetype": "text/x-python",
   "name": "python",
   "nbconvert_exporter": "python",
   "pygments_lexer": "ipython3",
   "version": "3.6.5"
  }
 },
 "nbformat": 4,
 "nbformat_minor": 2
}
