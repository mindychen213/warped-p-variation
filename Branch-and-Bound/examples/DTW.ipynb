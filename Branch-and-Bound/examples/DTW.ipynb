{
 "cells": [
  {
   "cell_type": "code",
   "execution_count": 1,
   "metadata": {},
   "outputs": [],
   "source": [
    "import pybnb\n",
    "import numpy as np"
   ]
  },
  {
   "cell_type": "code",
   "execution_count": null,
   "metadata": {},
   "outputs": [],
   "source": [
    "class Lattice(pybnb.Problem):\n",
    "\n",
    "    def __init__(self, x, y):\n",
    "        self.x = tuple(x)\n",
    "        self.m = len(self.x)\n",
    "        self.y = tuple(y)\n",
    "        self.n = len(self.y)\n",
    "        assert self.m > 0\n",
    "        assert self.n > 0\n",
    "\n",
    "        self.path = [(0,0)]\n",
    "        self.evaluation = []\n",
    "        # TODO\n",
    "#         self.values_memoization = {}\n",
    "\n",
    "    def distance(self, path):\n",
    "        return np.sum([(self.x[i] - self.y[j])**2 for i,j in path])\n",
    "    \n",
    "    #def random_exploratory_path(self, path):\n",
    "    #    i,j = path[-1]\n",
    "    #    if (i==self.m-1) and (j<self.n-1):\n",
    "    #        new_path = list(path) + [(i,j+1)]\n",
    "    #        return self.random_exploratory_path(new_path)\n",
    "    #    elif (i<self.m-1) and (j==self.n-1):\n",
    "    #        new_path = list(path) + [(i+1,j)]\n",
    "    #        return self.random_exploratory_path(new_path)\n",
    "    #    elif (i<self.m-1) and (j<self.n-1):\n",
    "    #        direction = np.random.randint(3)\n",
    "    #        if direction == 0:\n",
    "    #            new_path = list(path) + [(i,j+1)]\n",
    "    #        elif direction == 1:\n",
    "    #            new_path = list(path) + [(i+1,j)]\n",
    "    #        else:\n",
    "    #            new_path = list(path) + [(i+1,j+1)]\n",
    "    #        return self.random_exploratory_path(new_path)\n",
    "    #    else:\n",
    "    #        return path\n",
    "        \n",
    "    def sense(self):\n",
    "        return pybnb.minimize\n",
    "\n",
    "    def objective(self):\n",
    "        if self.path[-1] == (self.m-1,self.n-1):\n",
    "            val = self.distance(self.path)\n",
    "        else:\n",
    "            val = self.infeasible_objective()\n",
    "\n",
    "        assert len(self.evaluation) in (len(self.path), len(self.path)-1)\n",
    "        if len(self.evaluation) == len(self.path)-1:\n",
    "            self.evaluation.append(val)\n",
    "\n",
    "        return val\n",
    "\n",
    "    def bound(self):\n",
    "        #exploratory_path = self.random_exploratory_path(self.path)\n",
    "        #print(exploratory_path)\n",
    "        #return self.unbounded_objective()\n",
    "        #return self.distance(exploratory_path)\n",
    "        return self.distance(self.path)\n",
    "\n",
    "    def save_state(self, node):\n",
    "        node.state = (list(self.path), list(self.evaluation))\n",
    "\n",
    "    def load_state(self, node):\n",
    "        (self.path, self.evaluation) = node.state\n",
    "\n",
    "    def branch(self):\n",
    "        \n",
    "        i,j = self.path[-1]\n",
    "        \n",
    "        if (i==self.m-1) and (j<self.n-1):\n",
    "            child = pybnb.Node()\n",
    "            child.state = (self.path + [(i,j+1)], list(self.evaluation))\n",
    "            yield child\n",
    "        \n",
    "        elif (i<self.m-1) and (j==self.n-1):\n",
    "            child = pybnb.Node()\n",
    "            child.state = (self.path + [(i+1,j)], list(self.evaluation))\n",
    "            yield child\n",
    "        \n",
    "        elif (i<self.m-1) and (j<self.n-1):\n",
    "            child = pybnb.Node()\n",
    "            child.state = (self.path + [(i+1,j)], list(self.evaluation))\n",
    "            yield child\n",
    "        \n",
    "            child = pybnb.Node()\n",
    "            child.state = (self.path + [(i,j+1)], list(self.evaluation))\n",
    "            yield child\n",
    "        \n",
    "            child = pybnb.Node()\n",
    "            child.state = (self.path + [(i+1,j+1)], list(self.evaluation))\n",
    "            yield child"
   ]
  },
  {
   "cell_type": "code",
   "execution_count": 2,
   "metadata": {},
   "outputs": [],
   "source": [
    "problem = Lattice(x=[2.]*5, y=[3.]*6)"
   ]
  },
  {
   "cell_type": "code",
   "execution_count": 3,
   "metadata": {},
   "outputs": [],
   "source": [
    "solver  = pybnb.Solver(comm=None)"
   ]
  },
  {
   "cell_type": "code",
   "execution_count": 4,
   "metadata": {
    "scrolled": false
   },
   "outputs": [
    {
     "name": "stdout",
     "output_type": "stream",
     "text": [
      "\n",
      "Using non-default solver options:\n",
      " - queue_strategy: depth (default: bound)\n",
      "\n",
      "Starting branch & bound solve:\n",
      " - dispatcher pid: 13036 (DESKTOP-0T8DJ4J)\n",
      " - worker processes: 1\n",
      "--------------------------------------------------------------------------------------------------------------------------\n",
      "         Nodes        |                      Objective Bounds                       |              Work              \n",
      "      Expl    Unexpl  |      Incumbent           Bound    Rel. Gap         Abs. Gap | Time (s)  Nodes/Sec Imbalance   Idle\n",
      "         0         1  |            inf            -inf         inf%             inf |      0.0       0.00     0.00%      0\n",
      "         1         0  |            inf             inf    0.000000%               0 |      0.0     245.60     0.00%      0\n",
      "--------------------------------------------------------------------------------------------------------------------------\n",
      "\n",
      "Problem is infeasible\n",
      "\n",
      "solver results:\n",
      " - solution_status: infeasible\n",
      " - termination_condition: optimality\n",
      " - objective: inf\n",
      " - bound: inf\n",
      " - absolute_gap: None\n",
      " - relative_gap: None\n",
      " - nodes: 1\n",
      " - wall_time: 12.61 ms\n",
      " - best_node: None\n",
      "\n"
     ]
    }
   ],
   "source": [
    "results = solver.solve(problem,\n",
    "#                        log=None,\n",
    "#                        queue_strategy='breadth',\n",
    "                       queue_strategy='depth'\n",
    "                      )"
   ]
  },
  {
   "cell_type": "code",
   "execution_count": 5,
   "metadata": {},
   "outputs": [
    {
     "data": {
      "text/plain": [
       "1"
      ]
     },
     "execution_count": 5,
     "metadata": {},
     "output_type": "execute_result"
    }
   ],
   "source": [
    "results.nodes"
   ]
  },
  {
   "cell_type": "code",
   "execution_count": null,
   "metadata": {},
   "outputs": [],
   "source": []
  }
 ],
 "metadata": {
  "kernelspec": {
   "display_name": "Python 3",
   "language": "python",
   "name": "python3"
  },
  "language_info": {
   "codemirror_mode": {
    "name": "ipython",
    "version": 3
   },
   "file_extension": ".py",
   "mimetype": "text/x-python",
   "name": "python",
   "nbconvert_exporter": "python",
   "pygments_lexer": "ipython3",
   "version": "3.6.5"
  }
 },
 "nbformat": 4,
 "nbformat_minor": 2
}
