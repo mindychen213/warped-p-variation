{
 "cells": [
  {
   "cell_type": "markdown",
   "metadata": {},
   "source": [
    "### Run tests for warped p-variation"
   ]
  },
  {
   "cell_type": "code",
   "execution_count": 1,
   "metadata": {},
   "outputs": [],
   "source": [
    "# !python tests.py"
   ]
  },
  {
   "cell_type": "code",
   "execution_count": 1,
   "metadata": {},
   "outputs": [],
   "source": [
    "import sys\n",
    "sys.path.insert(0, '../backend')\n",
    "sys.path.insert(0, '../../data')"
   ]
  },
  {
   "cell_type": "markdown",
   "metadata": {},
   "source": [
    "### Import libraries"
   ]
  },
  {
   "cell_type": "code",
   "execution_count": 2,
   "metadata": {},
   "outputs": [],
   "source": [
    "import numpy as np\n",
    "import pandas as pd\n",
    "import time\n",
    "import math\n",
    "import matplotlib.pyplot as plt\n",
    "import seaborn as sns\n",
    "%matplotlib inline\n",
    "\n",
    "from generalized_dtw import Warp\n",
    "from pvar_backend import *\n",
    "from brute_force_warped_pvar import *\n",
    "from pvar_tools import *\n",
    "from branch_and_bound_warped_pvar import *\n",
    "\n",
    "from transformers import *"
   ]
  },
  {
   "cell_type": "code",
   "execution_count": 3,
   "metadata": {},
   "outputs": [],
   "source": [
    "# import sys, importlib\n",
    "# importlib.reload(sys.modules['brute_force_warped_pvar'])"
   ]
  },
  {
   "cell_type": "markdown",
   "metadata": {},
   "source": [
    "# Example with simple signature p-variation"
   ]
  },
  {
   "cell_type": "code",
   "execution_count": 3,
   "metadata": {},
   "outputs": [],
   "source": [
    "idx = np.linspace(0, 6.28, 10)\n",
    "path = np.sin(idx)\n",
    "path = AddTime().fit_transform([path])[0]"
   ]
  },
  {
   "cell_type": "code",
   "execution_count": 4,
   "metadata": {},
   "outputs": [
    {
     "data": {
      "text/plain": [
       "(15.747476636533667, [0, 2, 4, 7, 9])"
      ]
     },
     "execution_count": 4,
     "metadata": {},
     "output_type": "execute_result"
    }
   ],
   "source": [
    "p_variation_path(path=path, p=1.5, depth=2, norm='l1', pth_root=False)"
   ]
  },
  {
   "cell_type": "code",
   "execution_count": 5,
   "metadata": {},
   "outputs": [
    {
     "data": {
      "text/plain": [
       "(6.282617916215064, [0, 2, 4, 7, 9])"
      ]
     },
     "execution_count": 5,
     "metadata": {},
     "output_type": "execute_result"
    }
   ],
   "source": [
    "p_variation_path(path=path, p=1.5, depth=2, norm='l1', pth_root=True)"
   ]
  },
  {
   "cell_type": "markdown",
   "metadata": {},
   "source": [
    "# Example with signature p-variation distance\n",
    "\n",
    "### We assume that $path_1$ and $path_2$ have already been aligned according to a warp"
   ]
  },
  {
   "cell_type": "code",
   "execution_count": 6,
   "metadata": {},
   "outputs": [],
   "source": [
    "idx = np.linspace(0, 6.28, 10)\n",
    "path1 = np.sin(idx)\n",
    "path2 = np.cos(idx)\n",
    "path1 = AddTime().fit_transform([path1])[0]\n",
    "path2 = AddTime().fit_transform([path2])[0]"
   ]
  },
  {
   "cell_type": "code",
   "execution_count": 7,
   "metadata": {},
   "outputs": [
    {
     "name": "stdout",
     "output_type": "stream",
     "text": [
      "distance with dynamic programming: (8.330463771808713, [0, 4, 9])\n"
     ]
    }
   ],
   "source": [
    "d = p_variation_distance(path1, path2, p=1.5, depth=2, norm='l1', optim_partition=True, pvar_advanced=False, pth_root=True)\n",
    "print('distance with dynamic programming: {}'.format(d))"
   ]
  },
  {
   "cell_type": "code",
   "execution_count": 8,
   "metadata": {},
   "outputs": [
    {
     "name": "stdout",
     "output_type": "stream",
     "text": [
      "distance with dynamic programming: (24.043836720083362, [0, 4, 9])\n"
     ]
    }
   ],
   "source": [
    "d = p_variation_distance(path1, path2, p=1.5, depth=2, norm='l1', optim_partition=True, pvar_advanced=False, pth_root=False)\n",
    "print('distance with dynamic programming: {}'.format(d))"
   ]
  },
  {
   "cell_type": "markdown",
   "metadata": {},
   "source": [
    "# Example with warped p-var package"
   ]
  },
  {
   "cell_type": "code",
   "execution_count": 9,
   "metadata": {},
   "outputs": [],
   "source": [
    "idx = np.linspace(0, 6.28, 6)\n",
    "path1 = np.sin(idx)\n",
    "path2 = np.cos(idx)\n",
    "path1 = AddTime().fit_transform([path1])[0]\n",
    "path2 = AddTime().fit_transform([path2])[0]"
   ]
  },
  {
   "cell_type": "markdown",
   "metadata": {},
   "source": [
    "### Compute the warped signature p-variation distance between $path_1$ and $path_2$"
   ]
  },
  {
   "cell_type": "markdown",
   "metadata": {},
   "source": [
    "### 1) Sequential calculations"
   ]
  },
  {
   "cell_type": "code",
   "execution_count": 12,
   "metadata": {},
   "outputs": [
    {
     "name": "stdout",
     "output_type": "stream",
     "text": [
      "number of warping paths to explore: 252\n",
      "time to find all possible paths: 0.13\n"
     ]
    },
    {
     "name": "stderr",
     "output_type": "stream",
     "text": [
      "Loop over all warps: 100%|████████████████████████████████████████████████████████| 1682/1682 [00:02<00:00, 752.00it/s]\n"
     ]
    },
    {
     "name": "stdout",
     "output_type": "stream",
     "text": [
      "total time for brute force with DP sequentially: 2.24 s\n"
     ]
    }
   ],
   "source": [
    "LP_seq = BruteForceWarpedPvar(path1, path2, p=1.5, depth=2, norm='l1', augment=False, add_time=False, parallelise=False, \n",
    "                              optim_partition=True, pvar_advanced=False, pth_root=False)"
   ]
  },
  {
   "cell_type": "code",
   "execution_count": 13,
   "metadata": {},
   "outputs": [
    {
     "name": "stdout",
     "output_type": "stream",
     "text": [
      "number of warping paths to explore: 252\n",
      "time to find all possible paths: 0.13\n"
     ]
    },
    {
     "name": "stderr",
     "output_type": "stream",
     "text": [
      "Loop over all warps: 100%|████████████████████████████████████████████████████████| 1682/1682 [00:02<00:00, 795.52it/s]\n"
     ]
    },
    {
     "name": "stdout",
     "output_type": "stream",
     "text": [
      "total time for brute force with DP sequentially: 2.12 s\n"
     ]
    }
   ],
   "source": [
    "LP_seq_pth_root = BruteForceWarpedPvar(path1, path2, p=1.5, depth=2, norm='l1', augment=False, add_time=False, \n",
    "                                       parallelise=False, optim_partition=True, pvar_advanced=False, pth_root=True)"
   ]
  },
  {
   "cell_type": "markdown",
   "metadata": {},
   "source": [
    "### global answers"
   ]
  },
  {
   "cell_type": "code",
   "execution_count": 20,
   "metadata": {},
   "outputs": [
    {
     "name": "stdout",
     "output_type": "stream",
     "text": [
      "warping distance with dynamic programming: 14.76997293868892 along [(0, 0), (1, 0), (2, 0), (3, 1), (4, 2), (4, 3), (4, 4), (5, 5), (5, 5), (5, 5), (5, 5)]. Best partiton:[0, 1, 3, 4, 10]\n"
     ]
    }
   ],
   "source": [
    "print('warping distance with dynamic programming: {} along {}. Best partiton:{}'.format(LP_seq.warped_pvar, \n",
    "                                                                                        LP_seq.best_warp, \n",
    "                                                                                        LP_seq.best_partition))"
   ]
  },
  {
   "cell_type": "code",
   "execution_count": 21,
   "metadata": {},
   "outputs": [
    {
     "name": "stdout",
     "output_type": "stream",
     "text": [
      "warping distance with dynamic programming: 6.019861041460879 along [(0, 0), (1, 0), (2, 0), (3, 1), (4, 2), (4, 3), (4, 4), (5, 5), (5, 5), (5, 5), (5, 5)]. Best partition: [0, 1, 3, 4, 10]\n"
     ]
    }
   ],
   "source": [
    "print('warping distance with dynamic programming: {} along {}. Best partition: {}'.format(LP_seq_pth_root.warped_pvar, \n",
    "                                                                                      LP_seq_pth_root.best_warp, \n",
    "                                                                                      LP_seq_pth_root.best_partition))"
   ]
  },
  {
   "cell_type": "markdown",
   "metadata": {},
   "source": [
    "### 2) Computations in parallel"
   ]
  },
  {
   "cell_type": "code",
   "execution_count": 22,
   "metadata": {},
   "outputs": [
    {
     "name": "stdout",
     "output_type": "stream",
     "text": [
      "number of warping paths to explore: 252\n",
      "time to find all possible paths: 0.15\n",
      "Using all available cores, i.e. 4\n",
      "total time for brute force with DP in Parallel: 3.28 s\n"
     ]
    }
   ],
   "source": [
    "LP = BruteForceWarpedPvar(path1, path2, p=1.5, depth=2, norm='l1', augment=False, add_time=False, parallelise=True, \n",
    "                          optim_partition=True, pvar_advanced=False, pth_root=False)"
   ]
  }
 ],
 "metadata": {
  "kernelspec": {
   "display_name": "Python 3",
   "language": "python",
   "name": "python3"
  },
  "language_info": {
   "codemirror_mode": {
    "name": "ipython",
    "version": 3
   },
   "file_extension": ".py",
   "mimetype": "text/x-python",
   "name": "python",
   "nbconvert_exporter": "python",
   "pygments_lexer": "ipython3",
   "version": "3.6.5"
  }
 },
 "nbformat": 4,
 "nbformat_minor": 2
}
