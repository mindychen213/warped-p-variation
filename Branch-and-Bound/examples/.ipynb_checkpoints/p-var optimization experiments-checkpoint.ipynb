{
 "cells": [
  {
   "cell_type": "markdown",
   "metadata": {},
   "source": [
    "### Run tests for warped p-variation"
   ]
  },
  {
   "cell_type": "code",
   "execution_count": 1,
   "metadata": {},
   "outputs": [],
   "source": [
    "# !python tests.py"
   ]
  },
  {
   "cell_type": "code",
   "execution_count": 1,
   "metadata": {},
   "outputs": [],
   "source": [
    "import sys\n",
    "sys.path.insert(0, '../backend')\n",
    "sys.path.insert(0, '../../data')"
   ]
  },
  {
   "cell_type": "markdown",
   "metadata": {},
   "source": [
    "### Import libraries"
   ]
  },
  {
   "cell_type": "code",
   "execution_count": 2,
   "metadata": {},
   "outputs": [],
   "source": [
    "import numpy as np\n",
    "import pandas as pd\n",
    "import time\n",
    "import math\n",
    "import matplotlib.pyplot as plt\n",
    "import seaborn as sns\n",
    "%matplotlib inline\n",
    "\n",
    "from generalized_dtw import Warp\n",
    "from pvar_backend import *\n",
    "from brute_force_warped_pvar import *\n",
    "from pvar_tools import *\n",
    "\n",
    "from transformers import *"
   ]
  },
  {
   "cell_type": "code",
   "execution_count": 16,
   "metadata": {},
   "outputs": [
    {
     "data": {
      "text/plain": [
       "<module 'brute_force_warped_pvar' from '../backend\\\\brute_force_warped_pvar.py'>"
      ]
     },
     "execution_count": 16,
     "metadata": {},
     "output_type": "execute_result"
    }
   ],
   "source": [
    "import sys, importlib\n",
    "importlib.reload(sys.modules['brute_force_warped_pvar'])"
   ]
  },
  {
   "cell_type": "markdown",
   "metadata": {},
   "source": [
    "# Example with simple signature p-variation"
   ]
  },
  {
   "cell_type": "code",
   "execution_count": 4,
   "metadata": {},
   "outputs": [],
   "source": [
    "path = np.array([0.0, 1.0, 2.0, 1.0, 0.0, 1.0, 0.0, -1.0, 0.0])\n",
    "path = AddTime().fit_transform([path])[0]"
   ]
  },
  {
   "cell_type": "code",
   "execution_count": 5,
   "metadata": {},
   "outputs": [
    {
     "data": {
      "text/plain": [
       "(18.609853858712462, [0, 2, 4, 5, 7, 8])"
      ]
     },
     "execution_count": 5,
     "metadata": {},
     "output_type": "execute_result"
    }
   ],
   "source": [
    "p_variation_path(path=path, p=1.5, depth=3, norm='l1')"
   ]
  },
  {
   "cell_type": "code",
   "execution_count": 6,
   "metadata": {},
   "outputs": [
    {
     "data": {
      "text/plain": [
       "(18.609853858712462, [0, 2, 4, 5, 7, 8])"
      ]
     },
     "execution_count": 6,
     "metadata": {},
     "output_type": "execute_result"
    }
   ],
   "source": [
    "p_variation_path_optim(path=path, p=1.5, depth=3, norm='l1')"
   ]
  },
  {
   "cell_type": "markdown",
   "metadata": {},
   "source": [
    "# Example with signature p-variation distance\n",
    "\n",
    "### We assume that $path_1$ and $path_2$ have already been aligned according to a warp"
   ]
  },
  {
   "cell_type": "code",
   "execution_count": 7,
   "metadata": {},
   "outputs": [],
   "source": [
    "path1 = np.array([0.0, 1.0, 2.0, 1.0, 0.0, 1.0, 0.0, -1.0, 0.0, 6.43, 1.32, 23.1])\n",
    "path2 = np.array([3.0, 1.0, 0.0, 2.0, 4.0, -1.0, 1.0, 3.0, -2.0, 4.21, 0.001, 10.])\n",
    "\n",
    "path1 = AddTime().fit_transform([path1])[0]\n",
    "path2 = AddTime().fit_transform([path2])[0]"
   ]
  },
  {
   "cell_type": "code",
   "execution_count": 8,
   "metadata": {},
   "outputs": [
    {
     "name": "stdout",
     "output_type": "stream",
     "text": [
      "distance with dynamic programming: (296.9716167253778, [0, 2, 4, 5, 7, 11])\n",
      "distance with optimisation algo: (296.9716167253778, [0, 2, 4, 5, 7, 11])\n"
     ]
    }
   ],
   "source": [
    "d = p_variation_distance(path1, path2, p=1.5, depth=2, norm='l1')\n",
    "d_optim = p_variation_distance_optim(path1, path2, p=1.5, depth=2, norm='l1')\n",
    "\n",
    "print('distance with dynamic programming: {}'.format(d))\n",
    "print('distance with optimisation algo: {}'.format(d_optim))"
   ]
  },
  {
   "cell_type": "markdown",
   "metadata": {},
   "source": [
    "# Example with warped p-var package"
   ]
  },
  {
   "cell_type": "code",
   "execution_count": 9,
   "metadata": {},
   "outputs": [],
   "source": [
    "path1 = np.array([0.0, 1.0, 2.0, 1.0, 4.0])\n",
    "path2 = np.array([-3.0, 1.0, 0.0, 4.0, 2.0, 1.0])\n",
    "\n",
    "path1 = AddTime().fit_transform([path1])[0]\n",
    "path2 = AddTime().fit_transform([path2])[0]"
   ]
  },
  {
   "cell_type": "markdown",
   "metadata": {},
   "source": [
    "### Compute the warped signature p-variation distance between $path_1$ and $path_2$"
   ]
  },
  {
   "cell_type": "markdown",
   "metadata": {},
   "source": [
    "### 1) Sequential calculations"
   ]
  },
  {
   "cell_type": "code",
   "execution_count": 10,
   "metadata": {},
   "outputs": [
    {
     "name": "stdout",
     "output_type": "stream",
     "text": [
      "number of warping paths to explore: 126\n",
      "time to find all possible paths: 0.05\n"
     ]
    },
    {
     "name": "stderr",
     "output_type": "stream",
     "text": [
      "Loop over all warps: 100%|██████████████████████████████████████████████████████████| 680/680 [00:02<00:00, 311.39it/s]\n"
     ]
    },
    {
     "name": "stdout",
     "output_type": "stream",
     "text": [
      "total time for brute force with DP sequentially: 2.20 s\n"
     ]
    }
   ],
   "source": [
    "LP_seq = BruteForceWarpedPvar(path1, path2, p=1.5, depth=2, norm='l1', augment=False, add_time=False, parallelise=False)"
   ]
  },
  {
   "cell_type": "markdown",
   "metadata": {},
   "source": [
    "### check output along one single warp"
   ]
  },
  {
   "cell_type": "code",
   "execution_count": 11,
   "metadata": {},
   "outputs": [
    {
     "name": "stdout",
     "output_type": "stream",
     "text": [
      "(43.8798169977704, [0, 2, 6, 7, 9])\n",
      "(43.74229167233559, [0, 2, 3, 6, 7, 9])\n"
     ]
    }
   ],
   "source": [
    "# example 1\n",
    "warp = LP_seq.allPaths[3]\n",
    "\n",
    "print(LP_seq.single_warped_pvar(warp=warp, p=1.5, depth=2, norm='l1'))\n",
    "print(LP_seq.optim_single_warped_pvar(warp=warp, p=1.5, depth=2, norm='l1'))"
   ]
  },
  {
   "cell_type": "code",
   "execution_count": 12,
   "metadata": {},
   "outputs": [
    {
     "name": "stdout",
     "output_type": "stream",
     "text": [
      "(41.392522226814705, [0, 2, 6, 7, 9])\n",
      "(41.250915020726076, [0, 2, 3, 6, 7, 8, 9])\n"
     ]
    }
   ],
   "source": [
    "# example 2\n",
    "warp = LP_seq.allPaths[7]\n",
    "\n",
    "print(LP_seq.single_warped_pvar(warp=warp, p=1.5, depth=2, norm='l1'))\n",
    "print(LP_seq.optim_single_warped_pvar(warp=warp, p=1.5, depth=2, norm='l1'))"
   ]
  },
  {
   "cell_type": "markdown",
   "metadata": {},
   "source": [
    "### global answer"
   ]
  },
  {
   "cell_type": "code",
   "execution_count": 13,
   "metadata": {},
   "outputs": [
    {
     "name": "stdout",
     "output_type": "stream",
     "text": [
      "warping distance with dynamic programming: 25.07518748871494 along [(0, 0), (0, 1), (1, 1), (2, 1), (3, 1), (3, 2), (4, 3), (4, 4), (4, 5), (4, 5)]\n"
     ]
    }
   ],
   "source": [
    "print('warping distance with dynamic programming: {} along {}'.format(LP_seq.warped_pvar, LP_seq.best_warp))\n",
    "# print('warping distance with optimisation algo: {} along {}'.format(LP_seq.optim_warped_pvar, LP_seq.optim_best_warp))"
   ]
  },
  {
   "cell_type": "markdown",
   "metadata": {},
   "source": [
    "### 2) Computations in parallel"
   ]
  },
  {
   "cell_type": "code",
   "execution_count": 17,
   "metadata": {},
   "outputs": [
    {
     "name": "stdout",
     "output_type": "stream",
     "text": [
      "number of warping paths to explore: 126\n",
      "time to find all possible paths: 0.02\n",
      "Using all available cores, i.e. 4\n",
      "total time for brute force with DP in Parallel: 2.60 s\n"
     ]
    }
   ],
   "source": [
    "LP = BruteForceWarpedPvar(path1, path2, p=1.5, depth=2, norm='l1', augment=False, add_time=False, parallelise=True)"
   ]
  },
  {
   "cell_type": "code",
   "execution_count": 20,
   "metadata": {},
   "outputs": [
    {
     "name": "stdout",
     "output_type": "stream",
     "text": [
      "warping distance with dynamic programming: 25.07518748871494\n"
     ]
    }
   ],
   "source": [
    "print('warping distance with dynamic programming: {}'.format(LP.warped_pvar))\n",
    "# print('warping distance with optimisation algo: {}'.format(LP.optim_warped_pvar))"
   ]
  },
  {
   "cell_type": "code",
   "execution_count": 21,
   "metadata": {},
   "outputs": [
    {
     "data": {
      "image/png": "[encoded data removed]",
      "text/plain": [
       "<Figure size 432x288 with 1 Axes>"
      ]
     },
     "metadata": {},
     "output_type": "display_data"
    }
   ],
   "source": [
    "LP.plot_alignment()"
   ]
  }
 ],
 "metadata": {
  "kernelspec": {
   "display_name": "Python 3",
   "language": "python",
   "name": "python3"
  },
  "language_info": {
   "codemirror_mode": {
    "name": "ipython",
    "version": 3
   },
   "file_extension": ".py",
   "mimetype": "text/x-python",
   "name": "python",
   "nbconvert_exporter": "python",
   "pygments_lexer": "ipython3",
   "version": "3.6.5"
  }
 },
 "nbformat": 4,
 "nbformat_minor": 2
}
