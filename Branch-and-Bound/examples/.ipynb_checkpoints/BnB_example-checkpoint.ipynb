{
 "cells": [
  {
   "cell_type": "code",
   "execution_count": 1,
   "metadata": {},
   "outputs": [],
   "source": [
    "import pybnb\n",
    "import numpy as np\n",
    "import example"
   ]
  },
  {
   "cell_type": "code",
   "execution_count": 2,
   "metadata": {},
   "outputs": [],
   "source": [
    "problem = example.Lattice(x=[2.]*5, y=[3.]*6)"
   ]
  },
  {
   "cell_type": "code",
   "execution_count": 3,
   "metadata": {},
   "outputs": [],
   "source": [
    "solver  = pybnb.Solver(comm=None)"
   ]
  },
  {
   "cell_type": "code",
   "execution_count": 4,
   "metadata": {
    "scrolled": false
   },
   "outputs": [
    {
     "name": "stdout",
     "output_type": "stream",
     "text": [
      "\n",
      "Using non-default solver options:\n",
      " - queue_strategy: depth (default: bound)\n",
      "\n",
      "Starting branch & bound solve:\n",
      " - dispatcher pid: 13036 (DESKTOP-0T8DJ4J)\n",
      " - worker processes: 1\n",
      "--------------------------------------------------------------------------------------------------------------------------\n",
      "         Nodes        |                      Objective Bounds                       |              Work              \n",
      "      Expl    Unexpl  |      Incumbent           Bound    Rel. Gap         Abs. Gap | Time (s)  Nodes/Sec Imbalance   Idle\n",
      "         0         1  |            inf            -inf         inf%             inf |      0.0       0.00     0.00%      0\n",
      "         1         0  |            inf             inf    0.000000%               0 |      0.0     245.60     0.00%      0\n",
      "--------------------------------------------------------------------------------------------------------------------------\n",
      "\n",
      "Problem is infeasible\n",
      "\n",
      "solver results:\n",
      " - solution_status: infeasible\n",
      " - termination_condition: optimality\n",
      " - objective: inf\n",
      " - bound: inf\n",
      " - absolute_gap: None\n",
      " - relative_gap: None\n",
      " - nodes: 1\n",
      " - wall_time: 12.61 ms\n",
      " - best_node: None\n",
      "\n"
     ]
    }
   ],
   "source": [
    "results = solver.solve(problem,\n",
    "#                        log=None,\n",
    "#                        queue_strategy='breadth',\n",
    "                       queue_strategy='depth'\n",
    "                      )"
   ]
  },
  {
   "cell_type": "code",
   "execution_count": 5,
   "metadata": {},
   "outputs": [
    {
     "data": {
      "text/plain": [
       "1"
      ]
     },
     "execution_count": 5,
     "metadata": {},
     "output_type": "execute_result"
    }
   ],
   "source": [
    "results.nodes"
   ]
  },
  {
   "cell_type": "code",
   "execution_count": null,
   "metadata": {},
   "outputs": [],
   "source": []
  }
 ],
 "metadata": {
  "kernelspec": {
   "display_name": "Python 3",
   "language": "python",
   "name": "python3"
  },
  "language_info": {
   "codemirror_mode": {
    "name": "ipython",
    "version": 3
   },
   "file_extension": ".py",
   "mimetype": "text/x-python",
   "name": "python",
   "nbconvert_exporter": "python",
   "pygments_lexer": "ipython3",
   "version": "3.6.5"
  }
 },
 "nbformat": 4,
 "nbformat_minor": 2
}
