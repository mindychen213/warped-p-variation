{
 "cells": [
  {
   "cell_type": "code",
   "execution_count": 4,
   "metadata": {},
   "outputs": [],
   "source": [
    "import pybnb"
   ]
  },
  {
   "cell_type": "code",
   "execution_count": null,
   "metadata": {},
   "outputs": [],
   "source": [
    "class Simple(pybnb.Problem):\n",
    "    def __init__(self):\n",
    "        self._xL, self._xU = 0, 1\n",
    "    \n",
    "    # required methods\n",
    "    \n",
    "    def sense(self): # minimize or maximize\n",
    "        return pybnb.minimize\n",
    "    \n",
    "    def objective(self): \n",
    "        return round(self._xU-self._xL,3)\n",
    "    \n",
    "    def bound(self): # compute bounding function\n",
    "        return -(self._xU - self._xL)**2\n",
    "    \n",
    "    def save_state(self, node):\n",
    "        node.state = (self._xL, self._xU)\n",
    "    \n",
    "    def load_state(self, node):\n",
    "        (self._xL, self._xU) = node.state\n",
    "\n",
    "    def branch(self):\n",
    "        xL, xU = self._xL, self._xU\n",
    "        xM = 0.5 * (xL + xU)\n",
    "        child = pybnb.Node()\n",
    "        child.state = (xL, xM)\n",
    "        yield child\n",
    "        child = pybnb.Node()\n",
    "        child.state = (xM, xU)\n",
    "        yield child\n",
    "    \n",
    "    # optional methods\n",
    "    \n",
    "    def notify_solve_begins(self, comm, worker_comm, convergence_checker):\n",
    "        pass\n",
    "    \n",
    "    def notify_new_best_node(self, node, current):\n",
    "        pass\n",
    "    \n",
    "    def notify_solve_finished(self, comm, worker_comm, results):\n",
    "        pass"
   ]
  }
 ],
 "metadata": {
  "kernelspec": {
   "display_name": "Python 3",
   "language": "python",
   "name": "python3"
  },
  "language_info": {
   "codemirror_mode": {
    "name": "ipython",
    "version": 3
   },
   "file_extension": ".py",
   "mimetype": "text/x-python",
   "name": "python",
   "nbconvert_exporter": "python",
   "pygments_lexer": "ipython3",
   "version": "3.6.5"
  }
 },
 "nbformat": 4,
 "nbformat_minor": 2
}
