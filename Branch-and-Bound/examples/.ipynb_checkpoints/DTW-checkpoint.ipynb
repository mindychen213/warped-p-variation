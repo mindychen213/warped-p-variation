{
 "cells": [
  {
   "cell_type": "code",
   "execution_count": 1,
   "metadata": {},
   "outputs": [],
   "source": [
    "# import sys\n",
    "# sys.path.insert(0, '../backend')"
   ]
  },
  {
   "cell_type": "code",
   "execution_count": 20,
   "metadata": {},
   "outputs": [],
   "source": [
    "import pybnb\n",
    "import numpy as np\n",
    "# import generalized_dtw"
   ]
  },
  {
   "cell_type": "code",
   "execution_count": 21,
   "metadata": {},
   "outputs": [],
   "source": [
    "x = np.random.rand(5).tolist()\n",
    "y = np.random.rand(7).tolist()"
   ]
  },
  {
   "cell_type": "markdown",
   "metadata": {},
   "source": [
    "# Branch-and-Bound"
   ]
  },
  {
   "cell_type": "code",
   "execution_count": 22,
   "metadata": {},
   "outputs": [],
   "source": [
    "class Lattice(pybnb.Problem):\n",
    "    \n",
    "    \"\"\" The solver in pybnb keeps track of the best solution seen so far for you, \n",
    "        and will prune the search space by not calling the branch() method when it \n",
    "        encounters a node whose bound() is worse than the best objective() seen so far.\n",
    "    \"\"\"\n",
    "\n",
    "    def __init__(self, x, y):\n",
    "        self.x = tuple(x)\n",
    "        self.m = len(self.x)\n",
    "        self.y = tuple(y)\n",
    "        self.n = len(self.y)\n",
    "        assert self.m > 0\n",
    "        assert self.n > 0\n",
    "\n",
    "#         self.values_memoization = {}\n",
    "        self.path = [(0,0)]\n",
    "        self.evaluation = [] # keep track of the history of parent function evaluations\n",
    "\n",
    "    def align(self, path):\n",
    "        \"\"\"align x and y according to the path\"\"\"\n",
    "        x_reparam = [self.x[k] for k in [i for i,j in path]]\n",
    "        y_reparam = [self.y[k] for k in [j for i,j in path]]\n",
    "        return x_reparam, y_reparam\n",
    "    \n",
    "    def distance(self, path):\n",
    "        x, y = self.align(path)\n",
    "        return np.sqrt(np.sum([(xx-yy)**2 for xx,yy in zip(x,y)]))\n",
    "        \n",
    "    def sense(self):\n",
    "        return pybnb.minimize\n",
    "\n",
    "    def objective(self):\n",
    "        \"\"\" The search space is not all paths in the tree, but only complete paths, \n",
    "            i.e. paths terminating at (m,n), the very last node for all branches.\n",
    "            by returning self.distance(self.path) only when self.path is a complete \n",
    "            path will ensure to optimise over the right search space (instead of \n",
    "            optimising over all possible partial paths on the tree).\n",
    "        \"\"\"\n",
    "        \n",
    "        if self.path[-1] == (self.m-1,self.n-1):\n",
    "            val = self.distance(self.path)\n",
    "        else:\n",
    "            val = self.infeasible_objective()\n",
    "\n",
    "        # TODO: do we need to keep track of values calculated along each path?\n",
    "        assert len(self.evaluation) in (len(self.path), len(self.path)-1)\n",
    "        if len(self.evaluation) == len(self.path)-1:\n",
    "            self.evaluation.append(val)\n",
    "\n",
    "        return val\n",
    "\n",
    "    def bound(self):\n",
    "        \"\"\" This function is evaluate at a partial path and needs to be a lower bound on any complete \n",
    "            path originating from it, so it can decide if the search needs to continue \n",
    "            along a partial path based on the best known objective.\n",
    "        \"\"\"        \n",
    "#         return self.unbounded_objective()\n",
    "        return self.distance(self.path)\n",
    "\n",
    "    def save_state(self, node):\n",
    "        node.state = (list(self.path), list(self.evaluation))\n",
    "\n",
    "    def load_state(self, node):\n",
    "        (self.path, self.evaluation) = node.state\n",
    "\n",
    "    def branch(self):\n",
    "        \n",
    "        i,j = self.path[-1]\n",
    "        \n",
    "        if (i==self.m-1) and (j<self.n-1):\n",
    "            child = pybnb.Node()\n",
    "            child.state = (self.path + [(i,j+1)], list(self.evaluation))\n",
    "            yield child\n",
    "        \n",
    "        elif (i<self.m-1) and (j==self.n-1):\n",
    "            child = pybnb.Node()\n",
    "            child.state = (self.path + [(i+1,j)], list(self.evaluation))\n",
    "            yield child\n",
    "        \n",
    "        elif (i<self.m-1) and (j<self.n-1):\n",
    "            child = pybnb.Node()\n",
    "            child.state = (self.path + [(i+1,j)], list(self.evaluation))\n",
    "            yield child\n",
    "        \n",
    "            child = pybnb.Node()\n",
    "            child.state = (self.path + [(i,j+1)], list(self.evaluation))\n",
    "            yield child\n",
    "        \n",
    "            child = pybnb.Node()\n",
    "            child.state = (self.path + [(i+1,j+1)], list(self.evaluation))\n",
    "            yield child\n",
    "            \n",
    "#     def notify_new_best_node(self, node, current=True):\n",
    "#         print('we found a new best', node)"
   ]
  },
  {
   "cell_type": "code",
   "execution_count": 23,
   "metadata": {},
   "outputs": [],
   "source": [
    "problem = Lattice(x, y)"
   ]
  },
  {
   "cell_type": "code",
   "execution_count": 25,
   "metadata": {},
   "outputs": [],
   "source": [
    "solver  = pybnb.Solver()"
   ]
  },
  {
   "cell_type": "code",
   "execution_count": 26,
   "metadata": {
    "scrolled": false
   },
   "outputs": [
    {
     "name": "stdout",
     "output_type": "stream",
     "text": [
      "\n",
      "Using non-default solver options:\n",
      " - queue_strategy: depth (default: bound)\n",
      "\n",
      "Starting branch & bound solve:\n",
      " - dispatcher pid: 9788 (DESKTOP-0T8DJ4J)\n",
      " - worker processes: 1\n",
      "--------------------------------------------------------------------------------------------------------------------------\n",
      "         Nodes        |                      Objective Bounds                       |              Work              \n",
      "      Expl    Unexpl  |      Incumbent           Bound    Rel. Gap         Abs. Gap | Time (s)  Nodes/Sec Imbalance   Idle\n",
      "         0         1  |            inf            -inf         inf%             inf |      0.0       0.00     0.00%      0\n",
      "         1         3  |            inf        0.785749         inf%             inf |      0.0     254.59     0.00%      0\n",
      "*       11         8  |       1.498127        0.785749   47.551253%    0.7123783644 |      0.0    1737.59     0.00%      0\n",
      "*       18         9  |       1.374442        0.785749   42.831412%    0.5886928861 |      0.0    1753.96     0.00%      0\n",
      "*       40         7  |       1.366983        0.785749   42.519469%    0.5812338875 |      0.0    4100.98     0.00%      0\n",
      "      Expl    Unexpl  |      Incumbent           Bound    Rel. Gap         Abs. Gap | Time (s)  Nodes/Sec Imbalance   Idle\n",
      "*       54         9  |       1.352586        0.785749   41.907629%    0.5668365594 |      0.0    4648.61     0.00%      0\n",
      "*       76         7  |       1.345005        0.785749   41.580231%    0.5592563576 |      0.0    5461.19     0.00%      0\n",
      "*      132        10  |       1.264974        0.785749   37.884151%    0.4792244831 |      0.0    5107.10     0.00%      0\n",
      "*      134         8  |       1.264031        0.785749   37.837858%    0.4782824384 |      0.0    1053.40     0.00%      0\n",
      "*      140         8  |       1.257241        0.785749   37.502127%    0.4714922075 |      0.0    2772.01     0.00%      0\n",
      "      Expl    Unexpl  |      Incumbent           Bound    Rel. Gap         Abs. Gap | Time (s)  Nodes/Sec Imbalance   Idle\n",
      "*      152         6  |       1.256909        0.785749   37.485626%    0.4711603652 |      0.0    2422.46     0.00%      0\n",
      "*      164         6  |         1.1789        0.785749   33.348977%    0.3931511562 |      0.1     431.73     0.00%      0\n",
      "*      186         4  |       1.170195        0.785749   32.853179%    0.3844464089 |      0.1    1311.93     0.00%      0\n",
      "*      225        10  |       1.168114        0.785749   32.733559%    0.3823654488 |      0.1    4340.23     0.00%      0\n",
      "*      227         8  |       1.167094        0.785749   32.674758%    0.3813452249 |      0.1     208.60     0.00%      0\n",
      "      Expl    Unexpl  |      Incumbent           Bound    Rel. Gap         Abs. Gap | Time (s)  Nodes/Sec Imbalance   Idle\n",
      "*      233         8  |       1.159737        0.785749   32.247630%    0.3739875677 |      0.1    1431.55     0.00%      0\n",
      "*      245         6  |       1.159377        0.785749   32.226606%    0.3736278175 |      0.1    2126.16     0.00%      0\n",
      "*      268        10  |       1.102289        0.785749   28.716624%     0.316540286 |      0.1    4342.92     0.00%      0\n",
      "*      270         8  |       1.101208        0.785749   28.646636%    0.3154590795 |      0.1    2100.08     0.00%      0\n",
      "*      284         7  |       1.078062        0.785749   27.114696%    0.2923133323 |      0.1    1035.03     0.00%      0\n",
      "      Expl    Unexpl  |      Incumbent           Bound    Rel. Gap         Abs. Gap | Time (s)  Nodes/Sec Imbalance   Idle\n",
      "*      286         5  |       1.076957        0.785749   27.039877%    0.2912078035 |      0.1    1792.35     0.00%      0\n",
      "*      367        10  |       1.039605        0.785749   24.418500%    0.2538559516 |      0.2    3997.97     0.00%      0\n",
      "*      369         8  |       1.038459        0.785749   24.335058%    0.2527094824 |      0.2    2057.14     0.00%      0\n",
      "*      383         7  |       1.013881        0.785749   22.500883%    0.2281322443 |      0.2    1323.17     0.00%      0\n",
      "*      385         5  |       1.012706        0.785749   22.410919%    0.2269566542 |      0.2    1658.34     0.00%      0\n",
      "      Expl    Unexpl  |      Incumbent           Bound    Rel. Gap         Abs. Gap | Time (s)  Nodes/Sec Imbalance   Idle\n",
      "*      463         7  |      0.9712542        0.785749   18.550514%    0.1855051356 |      0.2    6595.18     0.00%      0\n",
      "*      465         5  |      0.9700269        0.785749   18.427789%    0.1842778864 |      0.2     168.82     0.00%      0\n",
      "*      479         4  |      0.9436691        0.785749   15.792007%    0.1579200726 |      0.2    1357.04     0.00%      0\n",
      "*      481         2  |       0.942406        0.785749   15.665690%    0.1566569013 |      0.2    1016.32     0.00%      0\n",
      "       513         0  |       0.942406        0.942406    0.000000%               0 |      0.2    3495.89     0.00%      0\n",
      "--------------------------------------------------------------------------------------------------------------------------\n",
      "\n",
      "Absolute optimality tolerance met\n",
      "Optimal solution found!\n",
      "\n",
      "solver results:\n",
      " - solution_status: optimal\n",
      " - termination_condition: optimality\n",
      " - objective: 0.942406\n",
      " - bound: 0.942406\n",
      " - absolute_gap: 0\n",
      " - relative_gap: 0\n",
      " - nodes: 513\n",
      " - wall_time: 219.68 ms\n",
      " - best_node: Node(objective=0.942406)\n",
      "\n"
     ]
    }
   ],
   "source": [
    "results = solver.solve(problem,\n",
    "#                        log=None,\n",
    "#                        queue_strategy='breadth',\n",
    "                       queue_strategy='depth'\n",
    "                      )"
   ]
  },
  {
   "cell_type": "code",
   "execution_count": 12,
   "metadata": {},
   "outputs": [
    {
     "data": {
      "text/plain": [
       "0.725306478329863"
      ]
     },
     "execution_count": 12,
     "metadata": {},
     "output_type": "execute_result"
    }
   ],
   "source": [
    "results.best_node.objective"
   ]
  },
  {
   "cell_type": "code",
   "execution_count": 13,
   "metadata": {},
   "outputs": [
    {
     "name": "stdout",
     "output_type": "stream",
     "text": [
      "([(0, 0), (0, 1), (1, 2), (1, 3), (1, 4), (2, 5), (3, 5), (4, 6)], [inf, inf, inf, inf, inf, inf, inf, 0.725306478329863])\n"
     ]
    }
   ],
   "source": [
    "print(results.best_node.state)"
   ]
  },
  {
   "cell_type": "markdown",
   "metadata": {},
   "source": [
    "# Test with other code for DTW"
   ]
  },
  {
   "cell_type": "code",
   "execution_count": 14,
   "metadata": {},
   "outputs": [],
   "source": [
    "# # Euclidean\n",
    "# d = lambda a, b: (a-b)**2\n",
    "# f_d = lambda DD, a, b: np.sqrt(DD**2 + d(a, b))\n",
    "# final_operator = lambda x: np.sqrt(x)"
   ]
  },
  {
   "cell_type": "code",
   "execution_count": 15,
   "metadata": {},
   "outputs": [],
   "source": [
    "# W = generalized_dtw.Warp(x, y, d, f_d, final_operator)"
   ]
  },
  {
   "cell_type": "code",
   "execution_count": 7,
   "metadata": {},
   "outputs": [],
   "source": [
    "# W.warping_path[:-1]"
   ]
  },
  {
   "cell_type": "code",
   "execution_count": 8,
   "metadata": {},
   "outputs": [],
   "source": [
    "# W.plot_lattice()"
   ]
  },
  {
   "cell_type": "code",
   "execution_count": 9,
   "metadata": {},
   "outputs": [],
   "source": [
    "# W.plot_alignment()"
   ]
  },
  {
   "cell_type": "code",
   "execution_count": 10,
   "metadata": {},
   "outputs": [],
   "source": [
    "# W.cost"
   ]
  },
  {
   "cell_type": "code",
   "execution_count": null,
   "metadata": {},
   "outputs": [],
   "source": []
  }
 ],
 "metadata": {
  "kernelspec": {
   "display_name": "Python 3",
   "language": "python",
   "name": "python3"
  },
  "language_info": {
   "codemirror_mode": {
    "name": "ipython",
    "version": 3
   },
   "file_extension": ".py",
   "mimetype": "text/x-python",
   "name": "python",
   "nbconvert_exporter": "python",
   "pygments_lexer": "ipython3",
   "version": "3.6.5"
  }
 },
 "nbformat": 4,
 "nbformat_minor": 2
}
